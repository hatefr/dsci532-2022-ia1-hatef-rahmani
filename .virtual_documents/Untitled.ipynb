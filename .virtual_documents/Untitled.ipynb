from vega_datasets import data


data.list_datasets()


df = data.countries()
df.columns


df.select_dtypes('number').columns



